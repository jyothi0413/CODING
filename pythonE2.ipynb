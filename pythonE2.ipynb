{
 "cells": [
  {
   "cell_type": "code",
   "execution_count": 1,
   "id": "b4b5e5b8-f913-4631-a245-4b39ef4709ec",
   "metadata": {},
   "outputs": [
    {
     "name": "stdin",
     "output_type": "stream",
     "text": [
      "Enter a name Jyothi\n",
      "Enter a name  Bitra\n"
     ]
    },
    {
     "name": "stdout",
     "output_type": "stream",
     "text": [
      "Jyothi Bitra\n"
     ]
    }
   ],
   "source": [
    "# strings\n",
    "str1 = input(\"Enter a name\")\n",
    "str2= input(\"Enter a name\")\n",
    "fullname= str1 + str2\n",
    "print(fullname)"
   ]
  },
  {
   "cell_type": "code",
   "execution_count": 2,
   "id": "2ece7145-4d00-444e-b9e7-cab42d297475",
   "metadata": {},
   "outputs": [
    {
     "name": "stdin",
     "output_type": "stream",
     "text": [
      "Enter a float value 20\n",
      "Enter a float value 2\n"
     ]
    },
    {
     "name": "stdout",
     "output_type": "stream",
     "text": [
      "division 10.0\n"
     ]
    }
   ],
   "source": [
    "# float datatype sample\n",
    "n1 = float(input(\"Enter a float value\"))\n",
    "n2 = float(input(\"Enter a float value\"))\n",
    "print(\"division\",n1/n2)"
   ]
  },
  {
   "cell_type": "code",
   "execution_count": 4,
   "id": "522540e1-c99e-4413-a431-670bf905be5a",
   "metadata": {},
   "outputs": [
    {
     "name": "stdin",
     "output_type": "stream",
     "text": [
      "Enter a string india\n"
     ]
    },
    {
     "name": "stdout",
     "output_type": "stream",
     "text": [
      "india\n",
      "5\n",
      "INDIA\n",
      "india\n",
      "nd\n",
      "aidni\n"
     ]
    }
   ],
   "source": [
    "# string sample operations\n",
    "s = str(input(\"Enter a string\"))\n",
    "print(s)\n",
    "print(len(s))\n",
    "print(s.upper())\n",
    "print(s.lower())\n",
    "print(s[1:3])\n",
    "print(s[: : -1])"
   ]
  },
  {
   "cell_type": "code",
   "execution_count": 5,
   "id": "a65d6090-ef29-4d21-9de7-2e6e8a1d9f31",
   "metadata": {
    "scrolled": true
   },
   "outputs": [
    {
     "name": "stdin",
     "output_type": "stream",
     "text": [
      "Enter a string india\n"
     ]
    },
    {
     "name": "stdout",
     "output_type": "stream",
     "text": [
      "india\n",
      "5\n",
      "INDIA\n",
      "india\n",
      "di\n",
      "adi\n"
     ]
    }
   ],
   "source": [
    "# string sample operations\n",
    "s = str(input(\"Enter a string\"))\n",
    "print(s)\n",
    "print(len(s))\n",
    "print(s.upper())\n",
    "print(s.lower())\n",
    "print(s[2:4])\n",
    "print(s[: : -2])"
   ]
  },
  {
   "cell_type": "code",
   "execution_count": 6,
   "id": "a3bf58b2-1796-4ddc-8979-27c1518f520d",
   "metadata": {},
   "outputs": [
    {
     "name": "stdout",
     "output_type": "stream",
     "text": [
      "['apple', 'kiwi', 'orange']\n",
      "True\n",
      "insert:\n",
      "['apple', 'kiwi', 'orange', 'bananna']\n",
      "delete\n",
      "['kiwi', 'orange', 'bananna']\n",
      "kiwi\n",
      "kiwi\n"
     ]
    }
   ],
   "source": [
    "#list operations\n",
    "fruits = ['apple','kiwi','orange']\n",
    "print(fruits)\n",
    "print('apple' in fruits)\n",
    "print(\"insert:\")\n",
    "fruits.append('bananna')\n",
    "print(fruits)\n",
    "print(\"delete\")\n",
    "fruits.remove('apple')\n",
    "print(fruits)\n",
    "print(fruits[0])\n",
    "print(fruits[-3])"
   ]
  },
  {
   "cell_type": "code",
   "execution_count": null,
   "id": "2b817b80-cf0f-4ff5-931e-26eccd44e612",
   "metadata": {},
   "outputs": [],
   "source": []
  }
 ],
 "metadata": {
  "kernelspec": {
   "display_name": "Python [conda env:base] *",
   "language": "python",
   "name": "conda-base-py"
  },
  "language_info": {
   "codemirror_mode": {
    "name": "ipython",
    "version": 3
   },
   "file_extension": ".py",
   "mimetype": "text/x-python",
   "name": "python",
   "nbconvert_exporter": "python",
   "pygments_lexer": "ipython3",
   "version": "3.12.7"
  }
 },
 "nbformat": 4,
 "nbformat_minor": 5
}
